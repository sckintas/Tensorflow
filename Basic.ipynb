{
 "cells": [
  {
   "cell_type": "code",
   "execution_count": null,
   "id": "13d71a57",
   "metadata": {},
   "outputs": [
    {
     "name": "stdout",
     "output_type": "stream",
     "text": [
      "Epoch 1/5\n",
      "120/120 [==============================] - 78s 643ms/step - loss: 0.4416 - accuracy: 0.8694 - val_loss: 0.1681 - val_accuracy: 0.9509\n",
      "Epoch 2/5\n",
      "120/120 [==============================] - 82s 685ms/step - loss: 0.1429 - accuracy: 0.9571 - val_loss: 0.0995 - val_accuracy: 0.9692\n",
      "Epoch 3/5\n",
      "120/120 [==============================] - 83s 693ms/step - loss: 0.0854 - accuracy: 0.9752 - val_loss: 0.0696 - val_accuracy: 0.9781\n",
      "Epoch 4/5\n",
      "120/120 [==============================] - 88s 732ms/step - loss: 0.0601 - accuracy: 0.9819 - val_loss: 0.0560 - val_accuracy: 0.9813\n",
      "Epoch 5/5\n",
      "120/120 [==============================] - 74s 619ms/step - loss: 0.0453 - accuracy: 0.9863 - val_loss: 0.0479 - val_accuracy: 0.9850\n"
     ]
    }
   ],
   "source": [
    "import tensorflow as tf\n",
    "from tensorflow.keras.models import Sequential\n",
    "from tensorflow.keras.layers import Conv2D, Flatten, Dense, Dropout, MaxPooling2D\n",
    "from tensorflow.keras.datasets import mnist\n",
    "from tensorflow.keras.utils import to_categorical\n",
    "import matplotlib.pyplot as plt\n",
    "import numpy as np\n",
    "import math\n",
    "\n",
    "# Load MNIST dataset\n",
    "(x_train, y_train), (x_val, y_val) = mnist.load_data()\n",
    "x_train = x_train.astype('float32') / 255.\n",
    "x_val = x_val.astype('float32') / 255.\n",
    "\n",
    "# Reshape input data from (28, 28) to (28, 28, 1)\n",
    "w, h = 28, 28\n",
    "x_train = x_train.reshape(x_train.shape[0], w, h, 1)\n",
    "x_val = x_val.reshape(x_val.shape[0], w, h, 1)\n",
    "\n",
    "# One-hot encode the labels\n",
    "y_train = to_categorical(y_train, 10)\n",
    "y_val = to_categorical(y_val, 10)\n",
    "\n",
    "model = Sequential()\n",
    "\n",
    "# First convolutional layer\n",
    "model.add(Conv2D(16, (5, 5), padding='same', activation='relu', input_shape=(28, 28, 1), name='conv1'))\n",
    "model.add(MaxPooling2D(pool_size=(2, 2)))\n",
    "\n",
    "# Flatten the tensor output before passing to Dense\n",
    "model.add(Flatten())\n",
    "\n",
    "# Add a Dense layer\n",
    "model.add(Dense(128, activation='relu'))\n",
    "\n",
    "# Output layer\n",
    "model.add(Dense(10, activation='softmax'))  # using softmax activation function because it's a multi-class problem\n",
    "\n",
    "# More layers...\n",
    "\n",
    "# Compile model\n",
    "model.compile(loss='categorical_crossentropy', optimizer='rmsprop', metrics=['accuracy'])\n",
    "\n",
    "# Train model\n",
    "history = model.fit(x_train, y_train, validation_data=(x_val, y_val), epochs=5, batch_size=500)\n",
    "\n",
    "# Display the learned kernels for the first convolutional layer\n",
    "weights = model.get_layer('conv1').get_weights()[0]\n",
    "\n",
    "# Normalize the weights for visualization\n",
    "weights = (weights - np.min(weights)) / (np.max(weights) - np.min(weights))\n",
    "\n",
    "\n",
    "# Function to display montage of filters\n",
    "def display_filters(weights):\n",
    "    num_filters = weights.shape[-1]\n",
    "    num_grids = math.ceil(math.sqrt(num_filters))\n",
    "    fig, axes = plt.subplots(num_grids, num_grids)\n",
    "\n",
    "    for i, ax in enumerate(axes.flat):\n",
    "        if i < num_filters:\n",
    "            img = weights[:, :, 0, i]\n",
    "            ax.imshow(img, cmap='gray')\n",
    "        ax.set_xticks([])\n",
    "        ax.set_yticks([])\n",
    "    plt.show()\n",
    "\n",
    "\n",
    "# Display filters\n",
    "display_filters(weights)"
   ]
  },
  {
   "cell_type": "code",
   "execution_count": 4,
   "id": "87d2f2d9",
   "metadata": {},
   "outputs": [
    {
     "data": {
      "image/png": "[encoded data removed]",
      "text/plain": [
       "<IPython.core.display.Image object>"
      ]
     },
     "execution_count": 4,
     "metadata": {
      "image/png": {
       "height": 400,
       "width": 800
      }
     },
     "output_type": "execute_result"
    }
   ],
   "source": [
    "from IPython.display import Image\n",
    "Image(filename='Figure_1.png',width=800, height=400)"
   ]
  },
  {
   "cell_type": "code",
   "execution_count": null,
   "id": "77266fd1",
   "metadata": {},
   "outputs": [],
   "source": []
  }
 ],
 "metadata": {
  "kernelspec": {
   "display_name": "Python 3 (ipykernel)",
   "language": "python",
   "name": "python3"
  },
  "language_info": {
   "codemirror_mode": {
    "name": "ipython",
    "version": 3
   },
   "file_extension": ".py",
   "mimetype": "text/x-python",
   "name": "python",
   "nbconvert_exporter": "python",
   "pygments_lexer": "ipython3",
   "version": "3.9.15"
  }
 },
 "nbformat": 4,
 "nbformat_minor": 5
}
